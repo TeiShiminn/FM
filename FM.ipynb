{
 "cells": [
  {
   "cell_type": "code",
   "execution_count": 109,
   "id": "6921f6af-7cab-427e-98f4-3dd58dcd0a98",
   "metadata": {},
   "outputs": [],
   "source": [
    "import pandas as pd\n",
    "import matplotlib.pyplot as plt\n",
    "from tabulate import tabulate"
   ]
  },
  {
   "cell_type": "code",
   "execution_count": 111,
   "id": "74fa7726-7c9d-45a0-b24a-31ce0736e8db",
   "metadata": {},
   "outputs": [],
   "source": [
    "# 设置 DataFrame 只显示 4 行\n",
    "pd.options.display.max_rows = 4"
   ]
  },
  {
   "cell_type": "code",
   "execution_count": null,
   "id": "687d0c6a-7e8b-4148-a109-27cc9d25a972",
   "metadata": {},
   "outputs": [],
   "source": []
  },
  {
   "cell_type": "markdown",
   "id": "8fd8b794-429f-4e65-adbc-a9594e979d73",
   "metadata": {},
   "source": [
    "## Class 1 "
   ]
  },
  {
   "cell_type": "markdown",
   "id": "7ba72170-578e-47be-8b03-67615d4158ba",
   "metadata": {},
   "source": [
    "### One-Day SPX Returns"
   ]
  },
  {
   "cell_type": "code",
   "execution_count": 116,
   "id": "3d1ad84a-e52e-49b3-ae70-2a87b8277e45",
   "metadata": {},
   "outputs": [
    {
     "data": {
      "text/html": [
       "<div>\n",
       "<style scoped>\n",
       "    .dataframe tbody tr th:only-of-type {\n",
       "        vertical-align: middle;\n",
       "    }\n",
       "\n",
       "    .dataframe tbody tr th {\n",
       "        vertical-align: top;\n",
       "    }\n",
       "\n",
       "    .dataframe thead th {\n",
       "        text-align: right;\n",
       "    }\n",
       "</style>\n",
       "<table border=\"1\" class=\"dataframe\">\n",
       "  <thead>\n",
       "    <tr style=\"text-align: right;\">\n",
       "      <th></th>\n",
       "      <th>DATE</th>\n",
       "      <th>SPX</th>\n",
       "    </tr>\n",
       "  </thead>\n",
       "  <tbody>\n",
       "    <tr>\n",
       "      <th>0</th>\n",
       "      <td>1967-01-03</td>\n",
       "      <td>0.0622</td>\n",
       "    </tr>\n",
       "    <tr>\n",
       "      <th>1</th>\n",
       "      <td>1967-01-04</td>\n",
       "      <td>0.2115</td>\n",
       "    </tr>\n",
       "    <tr>\n",
       "      <th>...</th>\n",
       "      <td>...</td>\n",
       "      <td>...</td>\n",
       "    </tr>\n",
       "    <tr>\n",
       "      <th>13591</th>\n",
       "      <td>2020-12-30</td>\n",
       "      <td>0.1342</td>\n",
       "    </tr>\n",
       "    <tr>\n",
       "      <th>13592</th>\n",
       "      <td>2020-12-31</td>\n",
       "      <td>0.6439</td>\n",
       "    </tr>\n",
       "  </tbody>\n",
       "</table>\n",
       "<p>13593 rows × 2 columns</p>\n",
       "</div>"
      ],
      "text/plain": [
       "            DATE     SPX\n",
       "0     1967-01-03  0.0622\n",
       "1     1967-01-04  0.2115\n",
       "...          ...     ...\n",
       "13591 2020-12-30  0.1342\n",
       "13592 2020-12-31  0.6439\n",
       "\n",
       "[13593 rows x 2 columns]"
      ]
     },
     "execution_count": 116,
     "metadata": {},
     "output_type": "execute_result"
    }
   ],
   "source": [
    "# load Data\n",
    "# SPX \n",
    "SPX_DailyReturn = pd.read_csv(\"./Data/SPX_Daily.csv\")\n",
    "SPX_DailyReturn.rename(columns={'sprtrn':'SPX'}, inplace=True)\n",
    "SPX_DailyReturn['SPX'] = SPX_DailyReturn['SPX']*100\n",
    "SPX_DailyReturn['DATE'] = pd.to_datetime(SPX_DailyReturn['DATE'])\n",
    "SPX_DailyReturn"
   ]
  },
  {
   "cell_type": "code",
   "execution_count": 118,
   "id": "e0eb4426-d858-48ea-81ec-c6f55362513d",
   "metadata": {},
   "outputs": [
    {
     "data": {
      "text/html": [
       "<div>\n",
       "<style scoped>\n",
       "    .dataframe tbody tr th:only-of-type {\n",
       "        vertical-align: middle;\n",
       "    }\n",
       "\n",
       "    .dataframe tbody tr th {\n",
       "        vertical-align: top;\n",
       "    }\n",
       "\n",
       "    .dataframe thead th {\n",
       "        text-align: right;\n",
       "    }\n",
       "</style>\n",
       "<table border=\"1\" class=\"dataframe\">\n",
       "  <thead>\n",
       "    <tr style=\"text-align: right;\">\n",
       "      <th></th>\n",
       "      <th>DATE</th>\n",
       "      <th>VIX</th>\n",
       "    </tr>\n",
       "  </thead>\n",
       "  <tbody>\n",
       "    <tr>\n",
       "      <th>0</th>\n",
       "      <td>1986-01-02</td>\n",
       "      <td>NaN</td>\n",
       "    </tr>\n",
       "    <tr>\n",
       "      <th>1</th>\n",
       "      <td>1986-01-03</td>\n",
       "      <td>NaN</td>\n",
       "    </tr>\n",
       "    <tr>\n",
       "      <th>...</th>\n",
       "      <td>...</td>\n",
       "      <td>...</td>\n",
       "    </tr>\n",
       "    <tr>\n",
       "      <th>12862</th>\n",
       "      <td>2022-12-29</td>\n",
       "      <td>21.44</td>\n",
       "    </tr>\n",
       "    <tr>\n",
       "      <th>12863</th>\n",
       "      <td>2022-12-30</td>\n",
       "      <td>21.67</td>\n",
       "    </tr>\n",
       "  </tbody>\n",
       "</table>\n",
       "<p>12864 rows × 2 columns</p>\n",
       "</div>"
      ],
      "text/plain": [
       "            DATE    VIX\n",
       "0     1986-01-02    NaN\n",
       "1     1986-01-03    NaN\n",
       "...          ...    ...\n",
       "12862 2022-12-29  21.44\n",
       "12863 2022-12-30  21.67\n",
       "\n",
       "[12864 rows x 2 columns]"
      ]
     },
     "execution_count": 118,
     "metadata": {},
     "output_type": "execute_result"
    }
   ],
   "source": [
    "# VIX\n",
    "VIX_DailyReturn = pd.read_csv('./Data/VIX_Daily.csv')\n",
    "VIX_DailyReturn.rename(columns={'Date':'DATE', 'vix':'VIX'}, inplace=True)\n",
    "VIX_DailyReturn['DATE'] = pd.to_datetime(VIX_DailyReturn['DATE'])\n",
    "VIX_DailyReturn.sort_values(by = 'DATE')"
   ]
  },
  {
   "cell_type": "code",
   "execution_count": 128,
   "id": "37420159-37b5-4e05-b183-964442bdf6e7",
   "metadata": {},
   "outputs": [
    {
     "data": {
      "text/html": [
       "<div>\n",
       "<style scoped>\n",
       "    .dataframe tbody tr th:only-of-type {\n",
       "        vertical-align: middle;\n",
       "    }\n",
       "\n",
       "    .dataframe tbody tr th {\n",
       "        vertical-align: top;\n",
       "    }\n",
       "\n",
       "    .dataframe thead th {\n",
       "        text-align: right;\n",
       "    }\n",
       "</style>\n",
       "<table border=\"1\" class=\"dataframe\">\n",
       "  <thead>\n",
       "    <tr style=\"text-align: right;\">\n",
       "      <th></th>\n",
       "      <th>DATE</th>\n",
       "      <th>SPX</th>\n",
       "      <th>VIX</th>\n",
       "    </tr>\n",
       "  </thead>\n",
       "  <tbody>\n",
       "    <tr>\n",
       "      <th>0</th>\n",
       "      <td>1967-01-03</td>\n",
       "      <td>0.0622</td>\n",
       "      <td>NaN</td>\n",
       "    </tr>\n",
       "    <tr>\n",
       "      <th>1</th>\n",
       "      <td>1967-01-04</td>\n",
       "      <td>0.2115</td>\n",
       "      <td>NaN</td>\n",
       "    </tr>\n",
       "    <tr>\n",
       "      <th>...</th>\n",
       "      <td>...</td>\n",
       "      <td>...</td>\n",
       "      <td>...</td>\n",
       "    </tr>\n",
       "    <tr>\n",
       "      <th>17121</th>\n",
       "      <td>2020-12-30</td>\n",
       "      <td>0.1342</td>\n",
       "      <td>22.77</td>\n",
       "    </tr>\n",
       "    <tr>\n",
       "      <th>17122</th>\n",
       "      <td>2020-12-31</td>\n",
       "      <td>0.6439</td>\n",
       "      <td>22.75</td>\n",
       "    </tr>\n",
       "  </tbody>\n",
       "</table>\n",
       "<p>17123 rows × 3 columns</p>\n",
       "</div>"
      ],
      "text/plain": [
       "            DATE     SPX    VIX\n",
       "0     1967-01-03  0.0622    NaN\n",
       "1     1967-01-04  0.2115    NaN\n",
       "...          ...     ...    ...\n",
       "17121 2020-12-30  0.1342  22.77\n",
       "17122 2020-12-31  0.6439  22.75\n",
       "\n",
       "[17123 rows x 3 columns]"
      ]
     },
     "execution_count": 128,
     "metadata": {},
     "output_type": "execute_result"
    }
   ],
   "source": [
    "# merge data\n",
    "SPX_DailyData = pd.merge(SPX_DailyReturn, VIX_DailyReturn, on='DATE', how='left')\n",
    "SPX_DailyData"
   ]
  },
  {
   "cell_type": "code",
   "execution_count": 130,
   "id": "d6f0b433-88c8-4670-ad41-3099e96a6762",
   "metadata": {},
   "outputs": [
    {
     "data": {
      "text/html": [
       "<div>\n",
       "<style scoped>\n",
       "    .dataframe tbody tr th:only-of-type {\n",
       "        vertical-align: middle;\n",
       "    }\n",
       "\n",
       "    .dataframe tbody tr th {\n",
       "        vertical-align: top;\n",
       "    }\n",
       "\n",
       "    .dataframe thead th {\n",
       "        text-align: right;\n",
       "    }\n",
       "</style>\n",
       "<table border=\"1\" class=\"dataframe\">\n",
       "  <thead>\n",
       "    <tr style=\"text-align: right;\">\n",
       "      <th></th>\n",
       "      <th>DATE</th>\n",
       "      <th>SPX</th>\n",
       "      <th>VIX</th>\n",
       "    </tr>\n",
       "  </thead>\n",
       "  <tbody>\n",
       "    <tr>\n",
       "      <th>0</th>\n",
       "      <td>1987-10-19</td>\n",
       "      <td>-20.4669</td>\n",
       "      <td>NaN</td>\n",
       "    </tr>\n",
       "    <tr>\n",
       "      <th>1</th>\n",
       "      <td>2020-03-16</td>\n",
       "      <td>-11.9841</td>\n",
       "      <td>82.69</td>\n",
       "    </tr>\n",
       "    <tr>\n",
       "      <th>...</th>\n",
       "      <td>...</td>\n",
       "      <td>...</td>\n",
       "      <td>...</td>\n",
       "    </tr>\n",
       "    <tr>\n",
       "      <th>8</th>\n",
       "      <td>2020-03-09</td>\n",
       "      <td>-7.5970</td>\n",
       "      <td>54.46</td>\n",
       "    </tr>\n",
       "    <tr>\n",
       "      <th>9</th>\n",
       "      <td>1997-10-27</td>\n",
       "      <td>-6.8667</td>\n",
       "      <td>31.12</td>\n",
       "    </tr>\n",
       "  </tbody>\n",
       "</table>\n",
       "<p>10 rows × 3 columns</p>\n",
       "</div>"
      ],
      "text/plain": [
       "         DATE      SPX    VIX\n",
       "0  1987-10-19 -20.4669    NaN\n",
       "1  2020-03-16 -11.9841  82.69\n",
       "..        ...      ...    ...\n",
       "8  2020-03-09  -7.5970  54.46\n",
       "9  1997-10-27  -6.8667  31.12\n",
       "\n",
       "[10 rows x 3 columns]"
      ]
     },
     "execution_count": 130,
     "metadata": {},
     "output_type": "execute_result"
    }
   ],
   "source": [
    "Top10Worst = SPX_DailyData.nsmallest(10, 'SPX').reset_index(drop=True)\n",
    "Top10Worst"
   ]
  },
  {
   "cell_type": "code",
   "execution_count": null,
   "id": "4c45ecba-7230-4231-996a-9334d00ce139",
   "metadata": {},
   "outputs": [],
   "source": []
  },
  {
   "cell_type": "code",
   "execution_count": 136,
   "id": "bd5b013b-fda5-4821-93a0-a4f21290e590",
   "metadata": {},
   "outputs": [
    {
     "data": {
      "text/html": [
       "<div>\n",
       "<style scoped>\n",
       "    .dataframe tbody tr th:only-of-type {\n",
       "        vertical-align: middle;\n",
       "    }\n",
       "\n",
       "    .dataframe tbody tr th {\n",
       "        vertical-align: top;\n",
       "    }\n",
       "\n",
       "    .dataframe thead th {\n",
       "        text-align: right;\n",
       "    }\n",
       "</style>\n",
       "<table border=\"1\" class=\"dataframe\">\n",
       "  <thead>\n",
       "    <tr style=\"text-align: right;\">\n",
       "      <th></th>\n",
       "      <th>Rank</th>\n",
       "      <th>DATE</th>\n",
       "      <th>SPX</th>\n",
       "      <th>VIX</th>\n",
       "    </tr>\n",
       "  </thead>\n",
       "  <tbody>\n",
       "    <tr>\n",
       "      <th>0</th>\n",
       "      <td>1</td>\n",
       "      <td>1987-10-19</td>\n",
       "      <td>-20.4669</td>\n",
       "      <td>NaN</td>\n",
       "    </tr>\n",
       "    <tr>\n",
       "      <th>1</th>\n",
       "      <td>2</td>\n",
       "      <td>2020-03-16</td>\n",
       "      <td>-11.9841</td>\n",
       "      <td>82.69</td>\n",
       "    </tr>\n",
       "    <tr>\n",
       "      <th>...</th>\n",
       "      <td>...</td>\n",
       "      <td>...</td>\n",
       "      <td>...</td>\n",
       "      <td>...</td>\n",
       "    </tr>\n",
       "    <tr>\n",
       "      <th>8</th>\n",
       "      <td>9</td>\n",
       "      <td>2020-03-09</td>\n",
       "      <td>-7.5970</td>\n",
       "      <td>54.46</td>\n",
       "    </tr>\n",
       "    <tr>\n",
       "      <th>9</th>\n",
       "      <td>10</td>\n",
       "      <td>1997-10-27</td>\n",
       "      <td>-6.8667</td>\n",
       "      <td>31.12</td>\n",
       "    </tr>\n",
       "  </tbody>\n",
       "</table>\n",
       "<p>10 rows × 4 columns</p>\n",
       "</div>"
      ],
      "text/plain": [
       "    Rank       DATE      SPX    VIX\n",
       "0      1 1987-10-19 -20.4669    NaN\n",
       "1      2 2020-03-16 -11.9841  82.69\n",
       "..   ...        ...      ...    ...\n",
       "8      9 2020-03-09  -7.5970  54.46\n",
       "9     10 1997-10-27  -6.8667  31.12\n",
       "\n",
       "[10 rows x 4 columns]"
      ]
     },
     "execution_count": 136,
     "metadata": {},
     "output_type": "execute_result"
    }
   ],
   "source": [
    "#Top10Worst.insert(0, 'Rank', range(1,11))\n",
    "Top10Worst"
   ]
  },
  {
   "cell_type": "code",
   "execution_count": 50,
   "id": "fcbbe795-b3f8-4c63-9e9f-481c279a7316",
   "metadata": {
    "scrolled": true
   },
   "outputs": [
    {
     "data": {
      "image/png": "[encoded data removed]",
      "text/plain": [
       "<Figure size 600x600 with 1 Axes>"
      ]
     },
     "metadata": {},
     "output_type": "display_data"
    }
   ],
   "source": [
    "plt.figure(figsize=(6, 6))\n",
    "plt.plot(SPX_DailyReturn['DATE'], SPX_DailyReturn['sprtrn'], \n",
    "         linestyle='None', color='blue', marker='o', markersize=1)\n",
    "plt.ylim(-25, 15)\n",
    "plt.scatter(Top10Worst['DATE'], Top10Worst['sprtrn'], facecolors='none', edgecolors='red', \n",
    "            marker='o', s=50, linewidths=0.5)\n",
    "plt.title('Daily SPX Returns (%)')\n",
    "plt.show()"
   ]
  },
  {
   "cell_type": "code",
   "execution_count": null,
   "id": "28721f0e-f11a-4b62-8787-3ad63f767ffa",
   "metadata": {},
   "outputs": [],
   "source": []
  },
  {
   "cell_type": "code",
   "execution_count": null,
   "id": "e2529f32-394b-4534-9c3e-5bc1856b4d78",
   "metadata": {},
   "outputs": [],
   "source": []
  }
 ],
 "metadata": {
  "kernelspec": {
   "display_name": "Python 3 (ipykernel)",
   "language": "python",
   "name": "python3"
  },
  "language_info": {
   "codemirror_mode": {
    "name": "ipython",
    "version": 3
   },
   "file_extension": ".py",
   "mimetype": "text/x-python",
   "name": "python",
   "nbconvert_exporter": "python",
   "pygments_lexer": "ipython3",
   "version": "3.12.7"
  }
 },
 "nbformat": 4,
 "nbformat_minor": 5
}
